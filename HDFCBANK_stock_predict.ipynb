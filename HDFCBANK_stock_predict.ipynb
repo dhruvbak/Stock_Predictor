{
 "cells": [
  {
   "cell_type": "markdown",
   "metadata": {},
   "source": [
    "## HDFC Bank Stock prediction for March-April 2021 using RNN(LSTM)"
   ]
  },
  {
   "cell_type": "markdown",
   "metadata": {},
   "source": [
    "#### Data Preprocessing"
   ]
  },
  {
   "cell_type": "code",
   "execution_count": 1,
   "metadata": {},
   "outputs": [],
   "source": [
    "# Importing the libraries\n",
    "import numpy as np\n",
    "import matplotlib.pyplot as plt\n",
    "import pandas as pd\n",
    "import sklearn"
   ]
  },
  {
   "cell_type": "markdown",
   "metadata": {},
   "source": [
    "Dataset- https://www.kaggle.com/rohanrao/nifty50-stock-market-data?select=HDFCBANK.csv"
   ]
  },
  {
   "cell_type": "code",
   "execution_count": 2,
   "metadata": {},
   "outputs": [],
   "source": [
    "# Importing the training set\n",
    "dataset_train = pd.read_csv('HDFCBANK_Train.csv')\n",
    "training_set = dataset_train.iloc[:, 1:2].values"
   ]
  },
  {
   "cell_type": "code",
   "execution_count": 3,
   "metadata": {},
   "outputs": [],
   "source": [
    "# Feature Scaling\n",
    "from sklearn.preprocessing import MinMaxScaler\n",
    "sc = MinMaxScaler(feature_range = (0, 1))\n",
    "training_set_scaled = sc.fit_transform(training_set)"
   ]
  },
  {
   "cell_type": "code",
   "execution_count": 4,
   "metadata": {},
   "outputs": [],
   "source": [
    "# Creating a data structure with 60 timesteps and 1 output\n",
    "X_train = []\n",
    "y_train = []\n",
    "for i in range(60, len(training_set_scaled)):\n",
    "    X_train.append(training_set_scaled[i-60:i, 0])\n",
    "    y_train.append(training_set_scaled[i, 0])\n",
    "X_train, y_train = np.array(X_train), np.array(y_train)"
   ]
  },
  {
   "cell_type": "code",
   "execution_count": 5,
   "metadata": {},
   "outputs": [],
   "source": [
    "# Reshaping\n",
    "X_train = np.reshape(X_train, (X_train.shape[0], X_train.shape[1], 1))\n"
   ]
  },
  {
   "cell_type": "markdown",
   "metadata": {},
   "source": [
    "#### Building the RNN(Recurrent Neural Network)"
   ]
  },
  {
   "cell_type": "code",
   "execution_count": 7,
   "metadata": {},
   "outputs": [],
   "source": [
    "# Imporing Keras\n",
    "import keras"
   ]
  },
  {
   "cell_type": "code",
   "execution_count": 8,
   "metadata": {},
   "outputs": [],
   "source": [
    "# Importing the Keras libraries and packages\n",
    "from keras.models import Sequential\n",
    "from keras.layers import Dense\n",
    "from keras.layers import LSTM\n",
    "from keras.layers import Dropout"
   ]
  },
  {
   "cell_type": "code",
   "execution_count": 9,
   "metadata": {},
   "outputs": [],
   "source": [
    "# Initialising the RNN\n",
    "regressor = Sequential()"
   ]
  },
  {
   "cell_type": "code",
   "execution_count": 10,
   "metadata": {},
   "outputs": [],
   "source": [
    "# Adding the first LSTM layer and some Dropout regularisation\n",
    "regressor.add(LSTM(units = 50, return_sequences = True, input_shape = (X_train.shape[1], 1)))\n",
    "regressor.add(Dropout(0.2))"
   ]
  },
  {
   "cell_type": "code",
   "execution_count": 11,
   "metadata": {},
   "outputs": [],
   "source": [
    "# Adding a second LSTM layer and some Dropout regularisation\n",
    "regressor.add(LSTM(units = 50, return_sequences = True))\n",
    "regressor.add(Dropout(0.2))"
   ]
  },
  {
   "cell_type": "code",
   "execution_count": 12,
   "metadata": {},
   "outputs": [],
   "source": [
    "# Adding a third LSTM layer and some Dropout regularisation\n",
    "regressor.add(LSTM(units = 50, return_sequences = True))\n",
    "regressor.add(Dropout(0.2))"
   ]
  },
  {
   "cell_type": "code",
   "execution_count": 13,
   "metadata": {},
   "outputs": [],
   "source": [
    "# Adding a fourth LSTM layer and some Dropout regularisation\n",
    "regressor.add(LSTM(units = 50))\n",
    "regressor.add(Dropout(0.2))"
   ]
  },
  {
   "cell_type": "code",
   "execution_count": 14,
   "metadata": {},
   "outputs": [],
   "source": [
    "# Adding the output layer\n",
    "regressor.add(Dense(units = 1))"
   ]
  },
  {
   "cell_type": "code",
   "execution_count": 15,
   "metadata": {},
   "outputs": [],
   "source": [
    "# Compiling the RNN\n",
    "regressor.compile(optimizer = 'adam', loss = 'mean_squared_error')"
   ]
  },
  {
   "cell_type": "code",
   "execution_count": 16,
   "metadata": {},
   "outputs": [
    {
     "name": "stdout",
     "output_type": "stream",
     "text": [
      "Epoch 1/38\n",
      "163/163 [==============================] - 15s 89ms/step - loss: 0.0098\n",
      "Epoch 2/38\n",
      "163/163 [==============================] - 15s 90ms/step - loss: 0.0039\n",
      "Epoch 3/38\n",
      "163/163 [==============================] - 16s 101ms/step - loss: 0.0036\n",
      "Epoch 4/38\n",
      "163/163 [==============================] - 17s 105ms/step - loss: 0.00301s - \n",
      "Epoch 5/38\n",
      "163/163 [==============================] - 17s 106ms/step - loss: 0.0028\n",
      "Epoch 6/38\n",
      "163/163 [==============================] - 17s 106ms/step - loss: 0.0026\n",
      "Epoch 7/38\n",
      "163/163 [==============================] - 17s 105ms/step - loss: 0.0022\n",
      "Epoch 8/38\n",
      "163/163 [==============================] - 17s 106ms/step - loss: 0.0022\n",
      "Epoch 9/38\n",
      "163/163 [==============================] - 17s 105ms/step - loss: 0.0023\n",
      "Epoch 10/38\n",
      "163/163 [==============================] - 17s 106ms/step - loss: 0.0020\n",
      "Epoch 11/38\n",
      "163/163 [==============================] - 17s 103ms/step - loss: 0.0020\n",
      "Epoch 12/38\n",
      "163/163 [==============================] - 17s 106ms/step - loss: 0.0021\n",
      "Epoch 13/38\n",
      "163/163 [==============================] - 17s 104ms/step - loss: 0.0017\n",
      "Epoch 14/38\n",
      "163/163 [==============================] - 17s 107ms/step - loss: 0.0016\n",
      "Epoch 15/38\n",
      "163/163 [==============================] - 17s 107ms/step - loss: 0.0015\n",
      "Epoch 16/38\n",
      "163/163 [==============================] - 17s 104ms/step - loss: 0.0014\n",
      "Epoch 17/38\n",
      "163/163 [==============================] - 17s 105ms/step - loss: 0.0014\n",
      "Epoch 18/38\n",
      "163/163 [==============================] - 17s 105ms/step - loss: 0.0016\n",
      "Epoch 19/38\n",
      "163/163 [==============================] - 17s 105ms/step - loss: 0.0014\n",
      "Epoch 20/38\n",
      "163/163 [==============================] - 17s 106ms/step - loss: 0.0014\n",
      "Epoch 21/38\n",
      "163/163 [==============================] - 17s 104ms/step - loss: 0.0013\n",
      "Epoch 22/38\n",
      "163/163 [==============================] - 17s 105ms/step - loss: 0.0013\n",
      "Epoch 23/38\n",
      "163/163 [==============================] - 17s 105ms/step - loss: 0.0013\n",
      "Epoch 24/38\n",
      "163/163 [==============================] - 17s 103ms/step - loss: 0.0012\n",
      "Epoch 25/38\n",
      "163/163 [==============================] - 17s 105ms/step - loss: 0.0012\n",
      "Epoch 26/38\n",
      "163/163 [==============================] - 17s 106ms/step - loss: 0.0011\n",
      "Epoch 27/38\n",
      "163/163 [==============================] - 17s 105ms/step - loss: 0.0012\n",
      "Epoch 28/38\n",
      "163/163 [==============================] - 17s 104ms/step - loss: 0.0011\n",
      "Epoch 29/38\n",
      "163/163 [==============================] - 17s 105ms/step - loss: 0.0011\n",
      "Epoch 30/38\n",
      "163/163 [==============================] - 17s 104ms/step - loss: 0.0011\n",
      "Epoch 31/38\n",
      "163/163 [==============================] - 17s 106ms/step - loss: 0.0012\n",
      "Epoch 32/38\n",
      "163/163 [==============================] - 17s 104ms/step - loss: 0.0011\n",
      "Epoch 33/38\n",
      "163/163 [==============================] - 17s 106ms/step - loss: 9.6988e-04\n",
      "Epoch 34/38\n",
      "163/163 [==============================] - 17s 107ms/step - loss: 0.0011\n",
      "Epoch 35/38\n",
      "163/163 [==============================] - 17s 103ms/step - loss: 0.0010\n",
      "Epoch 36/38\n",
      "163/163 [==============================] - 17s 106ms/step - loss: 9.3587e-04\n",
      "Epoch 37/38\n",
      "163/163 [==============================] - 17s 103ms/step - loss: 0.0010\n",
      "Epoch 38/38\n",
      "163/163 [==============================] - 17s 106ms/step - loss: 0.0010\n"
     ]
    },
    {
     "data": {
      "text/plain": [
       "<tensorflow.python.keras.callbacks.History at 0x160326e99a0>"
      ]
     },
     "execution_count": 16,
     "metadata": {},
     "output_type": "execute_result"
    }
   ],
   "source": [
    "# Fitting the RNN to the Training set\n",
    "regressor.fit(X_train, y_train, epochs = 38, batch_size = 32)"
   ]
  },
  {
   "cell_type": "markdown",
   "metadata": {},
   "source": [
    "#### Making the predictions and visualising the results"
   ]
  },
  {
   "cell_type": "code",
   "execution_count": 17,
   "metadata": {},
   "outputs": [],
   "source": [
    "# Getting the real stock price of March-April 2021\n",
    "dataset_test = pd.read_csv('HDFCBANK_test.csv')\n",
    "real_stock_price = dataset_test.iloc[:, 1:2].values\n"
   ]
  },
  {
   "cell_type": "code",
   "execution_count": 18,
   "metadata": {},
   "outputs": [],
   "source": [
    "# Getting the predicted stock price of March-April 2021\n",
    "dataset_total = pd.concat((dataset_train['Open'], dataset_test['Open']), axis = 0)\n",
    "inputs = dataset_total[len(dataset_total) - len(dataset_test) - 60:].values\n",
    "inputs = inputs.reshape(-1,1)\n",
    "inputs = sc.transform(inputs)\n",
    "X_test = []\n",
    "for i in range(60, 100):\n",
    "    X_test.append(inputs[i-60:i, 0])\n",
    "X_test = np.array(X_test)\n",
    "X_test = np.reshape(X_test, (X_test.shape[0], X_test.shape[1], 1))\n",
    "predicted_stock_price = regressor.predict(X_test)\n",
    "predicted_stock_price = sc.inverse_transform(predicted_stock_price)\n"
   ]
  },
  {
   "cell_type": "code",
   "execution_count": 19,
   "metadata": {},
   "outputs": [
    {
     "data": {
      "image/png": "[encoded data removed]",
      "text/plain": [
       "<Figure size 432x288 with 1 Axes>"
      ]
     },
     "metadata": {
      "needs_background": "light"
     },
     "output_type": "display_data"
    }
   ],
   "source": [
    "# Visualising the results\n",
    "plt.plot(real_stock_price, color = 'red', label = 'Real HDFCBANK Stock Price')\n",
    "plt.plot(predicted_stock_price, color = 'blue', label = 'Predicted HDFCBANK Stock Price')\n",
    "plt.title('HDFCBANK Stock Price Prediction')\n",
    "plt.xlabel('Time')\n",
    "plt.ylabel('HDFCBANK Stock Price')\n",
    "plt.legend()\n",
    "plt.show()\n"
   ]
  },
  {
   "cell_type": "code",
   "execution_count": null,
   "metadata": {},
   "outputs": [],
   "source": []
  }
 ],
 "metadata": {
  "kernelspec": {
   "display_name": "Python 3",
   "language": "python",
   "name": "python3"
  },
  "language_info": {
   "codemirror_mode": {
    "name": "ipython",
    "version": 3
   },
   "file_extension": ".py",
   "mimetype": "text/x-python",
   "name": "python",
   "nbconvert_exporter": "python",
   "pygments_lexer": "ipython3",
   "version": "3.8.5"
  }
 },
 "nbformat": 4,
 "nbformat_minor": 4
}
