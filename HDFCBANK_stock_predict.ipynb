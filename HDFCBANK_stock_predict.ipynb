{
 "cells": [
  {
   "cell_type": "markdown",
   "metadata": {},
   "source": [
    "## HDFC Bank Stock prediction for March-April 2021 using Keras and RNN(LSTM)"
   ]
  },
  {
   "cell_type": "markdown",
   "metadata": {},
   "source": [
    "#### Data Preprocessing"
   ]
  },
  {
   "cell_type": "code",
   "execution_count": 1,
   "metadata": {},
   "outputs": [],
   "source": [
    "# Importing the libraries\n",
    "import numpy as np\n",
    "import matplotlib.pyplot as plt\n",
    "import pandas as pd\n",
    "import sklearn"
   ]
  },
  
  {
   "cell_type": "code",
   "execution_count": 2,
   "metadata": {},
   "outputs": [],
   "source": [
    "# Importing the training set\n",
    "dataset_train = pd.read_csv('HDFCBANK_Train.csv')\n",
    "training_set = dataset_train.iloc[:, 1:2].values"
   ]
  },
  {
   "cell_type": "code",
   "execution_count": 3,
   "metadata": {},
   "outputs": [
    {
     "data": {
      "text/html": [
       "<div>\n",
       "<style scoped>\n",
       "    .dataframe tbody tr th:only-of-type {\n",
       "        vertical-align: middle;\n",
       "    }\n",
       "\n",
       "    .dataframe tbody tr th {\n",
       "        vertical-align: top;\n",
       "    }\n",
       "\n",
       "    .dataframe thead th {\n",
       "        text-align: right;\n",
       "    }\n",
       "</style>\n",
       "<table border=\"1\" class=\"dataframe\">\n",
       "  <thead>\n",
       "    <tr style=\"text-align: right;\">\n",
       "      <th></th>\n",
       "      <th>Date</th>\n",
       "      <th>Open</th>\n",
       "      <th>High</th>\n",
       "      <th>Low</th>\n",
       "      <th>Last</th>\n",
       "      <th>Close</th>\n",
       "      <th>VWAP</th>\n",
       "      <th>Prev Close</th>\n",
       "      <th>Volume</th>\n",
       "      <th>Turnover</th>\n",
       "      <th>Trades</th>\n",
       "      <th>Deliverable Volume</th>\n",
       "      <th>%Deliverble</th>\n",
       "    </tr>\n",
       "  </thead>\n",
       "  <tbody>\n",
       "    <tr>\n",
       "      <th>0</th>\n",
       "      <td>03-01-2000</td>\n",
       "      <td>166.00</td>\n",
       "      <td>170.00</td>\n",
       "      <td>166.00</td>\n",
       "      <td>170.00</td>\n",
       "      <td>170.00</td>\n",
       "      <td>169.52</td>\n",
       "      <td>157.40</td>\n",
       "      <td>33259</td>\n",
       "      <td>5.640000e+11</td>\n",
       "      <td>NaN</td>\n",
       "      <td>NaN</td>\n",
       "      <td>NaN</td>\n",
       "    </tr>\n",
       "    <tr>\n",
       "      <th>1</th>\n",
       "      <td>04-01-2000</td>\n",
       "      <td>182.00</td>\n",
       "      <td>183.45</td>\n",
       "      <td>171.00</td>\n",
       "      <td>174.00</td>\n",
       "      <td>173.80</td>\n",
       "      <td>174.99</td>\n",
       "      <td>170.00</td>\n",
       "      <td>168710</td>\n",
       "      <td>2.950000e+12</td>\n",
       "      <td>NaN</td>\n",
       "      <td>NaN</td>\n",
       "      <td>NaN</td>\n",
       "    </tr>\n",
       "    <tr>\n",
       "      <th>2</th>\n",
       "      <td>05-01-2000</td>\n",
       "      <td>170.00</td>\n",
       "      <td>173.90</td>\n",
       "      <td>165.00</td>\n",
       "      <td>168.00</td>\n",
       "      <td>166.95</td>\n",
       "      <td>169.20</td>\n",
       "      <td>173.80</td>\n",
       "      <td>159820</td>\n",
       "      <td>2.700000e+12</td>\n",
       "      <td>NaN</td>\n",
       "      <td>NaN</td>\n",
       "      <td>NaN</td>\n",
       "    </tr>\n",
       "    <tr>\n",
       "      <th>3</th>\n",
       "      <td>06-01-2000</td>\n",
       "      <td>168.00</td>\n",
       "      <td>170.00</td>\n",
       "      <td>165.30</td>\n",
       "      <td>168.95</td>\n",
       "      <td>168.30</td>\n",
       "      <td>168.44</td>\n",
       "      <td>166.95</td>\n",
       "      <td>85026</td>\n",
       "      <td>1.430000e+12</td>\n",
       "      <td>NaN</td>\n",
       "      <td>NaN</td>\n",
       "      <td>NaN</td>\n",
       "    </tr>\n",
       "    <tr>\n",
       "      <th>4</th>\n",
       "      <td>07-01-2000</td>\n",
       "      <td>162.15</td>\n",
       "      <td>171.00</td>\n",
       "      <td>162.15</td>\n",
       "      <td>170.75</td>\n",
       "      <td>168.35</td>\n",
       "      <td>166.79</td>\n",
       "      <td>168.30</td>\n",
       "      <td>85144</td>\n",
       "      <td>1.420000e+12</td>\n",
       "      <td>NaN</td>\n",
       "      <td>NaN</td>\n",
       "      <td>NaN</td>\n",
       "    </tr>\n",
       "  </tbody>\n",
       "</table>\n",
       "</div>"
      ],
      "text/plain": [
       "         Date    Open    High     Low    Last   Close    VWAP  Prev Close  \\\n",
       "0  03-01-2000  166.00  170.00  166.00  170.00  170.00  169.52      157.40   \n",
       "1  04-01-2000  182.00  183.45  171.00  174.00  173.80  174.99      170.00   \n",
       "2  05-01-2000  170.00  173.90  165.00  168.00  166.95  169.20      173.80   \n",
       "3  06-01-2000  168.00  170.00  165.30  168.95  168.30  168.44      166.95   \n",
       "4  07-01-2000  162.15  171.00  162.15  170.75  168.35  166.79      168.30   \n",
       "\n",
       "   Volume      Turnover  Trades  Deliverable Volume  %Deliverble  \n",
       "0   33259  5.640000e+11     NaN                 NaN          NaN  \n",
       "1  168710  2.950000e+12     NaN                 NaN          NaN  \n",
       "2  159820  2.700000e+12     NaN                 NaN          NaN  \n",
       "3   85026  1.430000e+12     NaN                 NaN          NaN  \n",
       "4   85144  1.420000e+12     NaN                 NaN          NaN  "
      ]
     },
     "execution_count": 3,
     "metadata": {},
     "output_type": "execute_result"
    }
   ],
   "source": [
    "dataset_train.head()"
   ]
  },
  {
   "cell_type": "code",
   "execution_count": 4,
   "metadata": {},
   "outputs": [],
   "source": [
    "# Using Columns Open as Training Dataset\n",
    "training_set = dataset_train.iloc[:, 1:2].values"
   ]
  },
  {
   "cell_type": "code",
   "execution_count": 5,
   "metadata": {},
   "outputs": [],
   "source": [
    "# Feature Scaling\n",
    "from sklearn.preprocessing import MinMaxScaler\n",
    "sc = MinMaxScaler(feature_range = (0, 1))\n",
    "training_set_scaled = sc.fit_transform(training_set)"
   ]
  },
  {
   "cell_type": "code",
   "execution_count": 6,
   "metadata": {},
   "outputs": [
    {
     "name": "stdout",
     "output_type": "stream",
     "text": [
      "X_train shape : (5206, 60)\n",
      "Y_train shape : (5206,)\n"
     ]
    }
   ],
   "source": [
    "# Creating a data structure with 60 timesteps and 1 output\n",
    "X_train = []\n",
    "y_train = []\n",
    "for i in range(60, len(training_set_scaled)):\n",
    "    X_train.append(training_set_scaled[i-60:i, 0])\n",
    "    y_train.append(training_set_scaled[i, 0])\n",
    "X_train, y_train = np.array(X_train), np.array(y_train)\n",
    "print(\"X_train shape :\" , X_train.shape)\n",
    "print(\"Y_train shape :\" , y_train.shape)"
   ]
  },
  {
   "cell_type": "code",
   "execution_count": 7,
   "metadata": {},
   "outputs": [
    {
     "name": "stdout",
     "output_type": "stream",
     "text": [
      "X_train shape : (5206, 60, 1)\n"
     ]
    }
   ],
   "source": [
    "# Reshaping\n",
    "X_train = np.reshape(X_train, (X_train.shape[0], X_train.shape[1], 1))\n",
    "print(\"X_train shape :\" , X_train.shape)"
   ]
  },
  {
   "cell_type": "markdown",
   "metadata": {},
   "source": [
    "#### Building the RNN(Recurrent Neural Network)"
   ]
  },
  {
   "cell_type": "code",
   "execution_count": 8,
   "metadata": {},
   "outputs": [],
   "source": [
    "# Imporing Keras\n",
    "import keras"
   ]
  },
  {
   "cell_type": "code",
   "execution_count": 9,
   "metadata": {},
   "outputs": [],
   "source": [
    "# Importing the Keras libraries and packages\n",
    "from keras.models import Sequential\n",
    "from keras.layers import Dense\n",
    "from keras.layers import LSTM\n",
    "from keras.layers import Dropout"
   ]
  },
  {
   "cell_type": "code",
   "execution_count": 10,
   "metadata": {},
   "outputs": [],
   "source": [
    "# Initialising the RNN\n",
    "regressor = Sequential()"
   ]
  },
  {
   "cell_type": "code",
   "execution_count": 11,
   "metadata": {},
   "outputs": [],
   "source": [
    "# Adding the first LSTM layer and some Dropout regularisation\n",
    "regressor.add(LSTM(units = 50, return_sequences = True, input_shape = (X_train.shape[1], 1)))\n",
    "regressor.add(Dropout(0.2))"
   ]
  },
  {
   "cell_type": "code",
   "execution_count": 12,
   "metadata": {},
   "outputs": [],
   "source": [
    "# Adding a second LSTM layer and some Dropout regularisation\n",
    "regressor.add(LSTM(units = 50, return_sequences = True))\n",
    "regressor.add(Dropout(0.2))"
   ]
  },
  {
   "cell_type": "code",
   "execution_count": 13,
   "metadata": {},
   "outputs": [],
   "source": [
    "# Adding a third LSTM layer and some Dropout regularisation\n",
    "regressor.add(LSTM(units = 50, return_sequences = True))\n",
    "regressor.add(Dropout(0.2))"
   ]
  },
  {
   "cell_type": "code",
   "execution_count": 14,
   "metadata": {},
   "outputs": [],
   "source": [
    "# Adding a fourth LSTM layer and some Dropout regularisation\n",
    "regressor.add(LSTM(units = 50))\n",
    "regressor.add(Dropout(0.2))"
   ]
  },
  {
   "cell_type": "code",
   "execution_count": 15,
   "metadata": {},
   "outputs": [],
   "source": [
    "# Adding the output layer\n",
    "regressor.add(Dense(units = 1))"
   ]
  },
  {
   "cell_type": "code",
   "execution_count": 16,
   "metadata": {},
   "outputs": [],
   "source": [
    "# Compiling the RNN\n",
    "regressor.compile(optimizer = 'adam', loss = 'mean_squared_error')"
   ]
  },
  {
   "cell_type": "code",
   "execution_count": 17,
   "metadata": {},
   "outputs": [
    {
     "name": "stdout",
     "output_type": "stream",
     "text": [
      "Model: \"sequential\"\n",
      "_________________________________________________________________\n",
      "Layer (type)                 Output Shape              Param #   \n",
      "=================================================================\n",
      "lstm (LSTM)                  (None, 60, 50)            10400     \n",
      "_________________________________________________________________\n",
      "dropout (Dropout)            (None, 60, 50)            0         \n",
      "_________________________________________________________________\n",
      "lstm_1 (LSTM)                (None, 60, 50)            20200     \n",
      "_________________________________________________________________\n",
      "dropout_1 (Dropout)          (None, 60, 50)            0         \n",
      "_________________________________________________________________\n",
      "lstm_2 (LSTM)                (None, 60, 50)            20200     \n",
      "_________________________________________________________________\n",
      "dropout_2 (Dropout)          (None, 60, 50)            0         \n",
      "_________________________________________________________________\n",
      "lstm_3 (LSTM)                (None, 50)                20200     \n",
      "_________________________________________________________________\n",
      "dropout_3 (Dropout)          (None, 50)                0         \n",
      "_________________________________________________________________\n",
      "dense (Dense)                (None, 1)                 51        \n",
      "=================================================================\n",
      "Total params: 71,051\n",
      "Trainable params: 71,051\n",
      "Non-trainable params: 0\n",
      "_________________________________________________________________\n",
      "None\n"
     ]
    }
   ],
   "source": [
    "print(regressor.summary())"
   ]
  },
  {
   "cell_type": "markdown",
   "metadata": {},
   "source": [
    "#### Fitting the RNN to the Training set"
   ]
  },
  {
   "cell_type": "code",
   "execution_count": 18,
   "metadata": {},
   "outputs": [
    {
     "name": "stdout",
     "output_type": "stream",
     "text": [
      "Epoch 1/38\n",
      "163/163 [==============================] - 15s 93ms/step - loss: 0.0105\n",
      "Epoch 2/38\n",
      "163/163 [==============================] - 15s 93ms/step - loss: 0.0044\n",
      "Epoch 3/38\n",
      "163/163 [==============================] - 15s 92ms/step - loss: 0.0032\n",
      "Epoch 4/38\n",
      "163/163 [==============================] - 15s 95ms/step - loss: 0.0033\n",
      "Epoch 5/38\n",
      "163/163 [==============================] - 16s 98ms/step - loss: 0.0029\n",
      "Epoch 6/38\n",
      "163/163 [==============================] - 16s 98ms/step - loss: 0.0025\n",
      "Epoch 7/38\n",
      "163/163 [==============================] - 16s 100ms/step - loss: 0.0025\n",
      "Epoch 8/38\n",
      "163/163 [==============================] - 16s 96ms/step - loss: 0.0022\n",
      "Epoch 9/38\n",
      "163/163 [==============================] - 16s 98ms/step - loss: 0.0021\n",
      "Epoch 10/38\n",
      "163/163 [==============================] - 19s 116ms/step - loss: 0.0021\n",
      "Epoch 11/38\n",
      "163/163 [==============================] - 18s 113ms/step - loss: 0.0022\n",
      "Epoch 12/38\n",
      "163/163 [==============================] - 18s 111ms/step - loss: 0.0019\n",
      "Epoch 13/38\n",
      "163/163 [==============================] - 17s 106ms/step - loss: 0.0017\n",
      "Epoch 14/38\n",
      "163/163 [==============================] - 16s 99ms/step - loss: 0.0016\n",
      "Epoch 15/38\n",
      "163/163 [==============================] - 16s 97ms/step - loss: 0.0017\n",
      "Epoch 16/38\n",
      "163/163 [==============================] - 16s 95ms/step - loss: 0.0015\n",
      "Epoch 17/38\n",
      "163/163 [==============================] - 17s 107ms/step - loss: 0.0016\n",
      "Epoch 18/38\n",
      "163/163 [==============================] - 16s 97ms/step - loss: 0.0014\n",
      "Epoch 19/38\n",
      "163/163 [==============================] - 16s 100ms/step - loss: 0.0013\n",
      "Epoch 20/38\n",
      "163/163 [==============================] - 16s 96ms/step - loss: 0.0013\n",
      "Epoch 21/38\n",
      "163/163 [==============================] - 16s 97ms/step - loss: 0.0013\n",
      "Epoch 22/38\n",
      "163/163 [==============================] - 16s 95ms/step - loss: 0.0013\n",
      "Epoch 23/38\n",
      "163/163 [==============================] - 16s 100ms/step - loss: 0.0013\n",
      "Epoch 24/38\n",
      "163/163 [==============================] - 17s 102ms/step - loss: 0.0012\n",
      "Epoch 25/38\n",
      "163/163 [==============================] - 17s 103ms/step - loss: 0.0012\n",
      "Epoch 26/38\n",
      "163/163 [==============================] - 16s 99ms/step - loss: 0.0012\n",
      "Epoch 27/38\n",
      "163/163 [==============================] - 16s 97ms/step - loss: 0.0012\n",
      "Epoch 28/38\n",
      "163/163 [==============================] - 16s 99ms/step - loss: 0.0012\n",
      "Epoch 29/38\n",
      "163/163 [==============================] - 16s 98ms/step - loss: 0.0012\n",
      "Epoch 30/38\n",
      "163/163 [==============================] - 16s 99ms/step - loss: 0.0011\n",
      "Epoch 31/38\n",
      "163/163 [==============================] - 16s 99ms/step - loss: 0.0010\n",
      "Epoch 32/38\n",
      "163/163 [==============================] - 17s 103ms/step - loss: 0.0011\n",
      "Epoch 33/38\n",
      "163/163 [==============================] - 16s 98ms/step - loss: 0.0011 0s - los\n",
      "Epoch 34/38\n",
      "163/163 [==============================] - 16s 97ms/step - loss: 0.0011\n",
      "Epoch 35/38\n",
      "163/163 [==============================] - 16s 96ms/step - loss: 0.0010\n",
      "Epoch 36/38\n",
      "163/163 [==============================] - 16s 97ms/step - loss: 9.9036e-04\n",
      "Epoch 37/38\n",
      "163/163 [==============================] - 16s 98ms/step - loss: 0.0011\n",
      "Epoch 38/38\n",
      "163/163 [==============================] - 17s 102ms/step - loss: 0.0010\n"
     ]
    },
    {
     "data": {
      "text/plain": [
       "<tensorflow.python.keras.callbacks.History at 0x17a7f1d0550>"
      ]
     },
     "execution_count": 18,
     "metadata": {},
     "output_type": "execute_result"
    }
   ],
   "source": [
    "# Fitting the RNN to the Training set\n",
    "regressor.fit(X_train, y_train, epochs = 38, batch_size = 32)"
   ]
  },
  {
   "cell_type": "markdown",
   "metadata": {},
   "source": [
    "#### Making the predictions and visualising the results"
   ]
  },
  {
   "cell_type": "code",
   "execution_count": 22,
   "metadata": {},
   "outputs": [],
   "source": [
    "# Getting the real stock price of March-April 2021\n",
    "dataset_test = pd.read_csv('HDFCBANK_test.csv')\n",
    "real_stock_price = dataset_test.iloc[:, 1:2].values"
   ]
  },
  {
   "cell_type": "code",
   "execution_count": 25,
   "metadata": {},
   "outputs": [
    {
     "name": "stdout",
     "output_type": "stream",
     "text": [
      "Shape of actual array of Stock price for March-April 2021:  (40, 1)\n"
     ]
    }
   ],
   "source": [
    "print(\"Shape of actual array of Stock price for March-April 2021: \", real_stock_price.shape)"
   ]
  },
  {
   "cell_type": "code",
   "execution_count": 26,
   "metadata": {},
   "outputs": [],
   "source": [
    "# Getting the predicted stock price of March-April 2021\n",
    "dataset_total = pd.concat((dataset_train['Open'], dataset_test['Open']), axis = 0)\n",
    "inputs = dataset_total[len(dataset_total) - len(dataset_test) - 60:].values\n",
    "inputs = inputs.reshape(-1,1)\n",
    "inputs = sc.transform(inputs)\n",
    "X_test = []\n",
    "for i in range(60, 100):\n",
    "    X_test.append(inputs[i-60:i, 0])\n",
    "X_test = np.array(X_test)\n",
    "X_test = np.reshape(X_test, (X_test.shape[0], X_test.shape[1], 1))\n",
    "predicted_stock_price = regressor.predict(X_test)\n",
    "predicted_stock_price = sc.inverse_transform(predicted_stock_price)\n"
   ]
  },
  {
   "cell_type": "code",
   "execution_count": 27,
   "metadata": {},
   "outputs": [
    {
     "data": {
      "image/png": "[encoded data removed]",
      "text/plain": [
       "<Figure size 432x288 with 1 Axes>"
      ]
     },
     "metadata": {
      "needs_background": "light"
     },
     "output_type": "display_data"
    }
   ],
   "source": [
    "# Visualising the results\n",
    "plt.plot(real_stock_price, color = 'red', label = 'Real HDFCBANK Stock Price')\n",
    "plt.plot(predicted_stock_price, color = 'blue', label = 'Predicted HDFCBANK Stock Price')\n",
    "plt.title('HDFCBANK Stock Price Prediction')\n",
    "plt.xlabel('Time')\n",
    "plt.ylabel('HDFCBANK Stock Price')\n",
    "plt.legend()\n",
    "plt.show()\n"
   ]
  },
  {
   "cell_type": "code",
   "execution_count": null,
   "metadata": {},
   "outputs": [],
   "source": []
  }
 ],
 "metadata": {
  "kernelspec": {
   "display_name": "Python 3",
   "language": "python",
   "name": "python3"
  },
  "language_info": {
   "codemirror_mode": {
    "name": "ipython",
    "version": 3
   },
   "file_extension": ".py",
   "mimetype": "text/x-python",
   "name": "python",
   "nbconvert_exporter": "python",
   "pygments_lexer": "ipython3",
   "version": "3.8.5"
  }
 },
 "nbformat": 4,
 "nbformat_minor": 4
}
