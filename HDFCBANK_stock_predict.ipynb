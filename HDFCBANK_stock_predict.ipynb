{
 "cells": [
  {
   "cell_type": "markdown",
   "metadata": {},
   "source": [
    "## HDFC Bank Stock prediction for March-April 2021 using RNN(LSTM)"
   ]
  },
  {
   "cell_type": "markdown",
   "metadata": {},
   "source": [
    "#### Data Preprocessing"
   ]
  },
  {
   "cell_type": "code",
   "execution_count": 1,
   "metadata": {},
   "outputs": [],
   "source": [
    "# Importing the libraries\n",
    "import numpy as np\n",
    "import matplotlib.pyplot as plt\n",
    "import pandas as pd\n",
    "import sklearn"
   ]
  },
  {
   "cell_type": "code",
   "execution_count": 2,
   "metadata": {},
   "outputs": [],
   "source": [
    "# Importing the training set\n",
    "dataset_train = pd.read_csv('HDFCBANK_Train.csv')\n",
    "training_set = dataset_train.iloc[:, 1:2].values"
   ]
  },
  {
   "cell_type": "code",
   "execution_count": 3,
   "metadata": {},
   "outputs": [],
   "source": [
    "# Feature Scaling\n",
    "from sklearn.preprocessing import MinMaxScaler\n",
    "sc = MinMaxScaler(feature_range = (0, 1))\n",
    "training_set_scaled = sc.fit_transform(training_set)"
   ]
  },
  {
   "cell_type": "code",
   "execution_count": 4,
   "metadata": {},
   "outputs": [],
   "source": [
    "# Creating a data structure with 60 timesteps and 1 output\n",
    "X_train = []\n",
    "y_train = []\n",
    "for i in range(60, len(training_set_scaled)):\n",
    "    X_train.append(training_set_scaled[i-60:i, 0])\n",
    "    y_train.append(training_set_scaled[i, 0])\n",
    "X_train, y_train = np.array(X_train), np.array(y_train)"
   ]
  },
  {
   "cell_type": "code",
   "execution_count": 5,
   "metadata": {},
   "outputs": [],
   "source": [
    "# Reshaping\n",
    "X_train = np.reshape(X_train, (X_train.shape[0], X_train.shape[1], 1))\n"
   ]
  },
  {
   "cell_type": "markdown",
   "metadata": {},
   "source": [
    "#### Building the RNN(Recurrent Neural Network)"
   ]
  },
  {
   "cell_type": "code",
   "execution_count": 6,
   "metadata": {},
   "outputs": [
    {
     "name": "stdout",
     "output_type": "stream",
     "text": [
      "Wall time: 19.9 s\n"
     ]
    }
   ],
   "source": [
    "# Imporing Keras\n",
    "%%time\n",
    "import keras"
   ]
  },
  {
   "cell_type": "code",
   "execution_count": 7,
   "metadata": {},
   "outputs": [],
   "source": [
    "# Importing the Keras libraries and packages\n",
    "from keras.models import Sequential\n",
    "from keras.layers import Dense\n",
    "from keras.layers import LSTM\n",
    "from keras.layers import Dropout"
   ]
  },
  {
   "cell_type": "code",
   "execution_count": 8,
   "metadata": {},
   "outputs": [],
   "source": [
    "# Initialising the RNN\n",
    "regressor = Sequential()"
   ]
  },
  {
   "cell_type": "code",
   "execution_count": 9,
   "metadata": {},
   "outputs": [],
   "source": [
    "# Adding the first LSTM layer and some Dropout regularisation\n",
    "regressor.add(LSTM(units = 50, return_sequences = True, input_shape = (X_train.shape[1], 1)))\n",
    "regressor.add(Dropout(0.2))"
   ]
  },
  {
   "cell_type": "code",
   "execution_count": 10,
   "metadata": {},
   "outputs": [],
   "source": [
    "# Adding a second LSTM layer and some Dropout regularisation\n",
    "regressor.add(LSTM(units = 50, return_sequences = True))\n",
    "regressor.add(Dropout(0.2))"
   ]
  },
  {
   "cell_type": "code",
   "execution_count": 11,
   "metadata": {},
   "outputs": [],
   "source": [
    "# Adding a third LSTM layer and some Dropout regularisation\n",
    "regressor.add(LSTM(units = 50, return_sequences = True))\n",
    "regressor.add(Dropout(0.2))"
   ]
  },
  {
   "cell_type": "code",
   "execution_count": 12,
   "metadata": {},
   "outputs": [],
   "source": [
    "# Adding a fourth LSTM layer and some Dropout regularisation\n",
    "regressor.add(LSTM(units = 50))\n",
    "regressor.add(Dropout(0.2))"
   ]
  },
  {
   "cell_type": "code",
   "execution_count": 13,
   "metadata": {},
   "outputs": [],
   "source": [
    "# Adding the output layer\n",
    "regressor.add(Dense(units = 1))"
   ]
  },
  {
   "cell_type": "code",
   "execution_count": 14,
   "metadata": {},
   "outputs": [],
   "source": [
    "# Compiling the RNN\n",
    "regressor.compile(optimizer = 'adam', loss = 'mean_squared_error')"
   ]
  },
  {
   "cell_type": "code",
   "execution_count": 15,
   "metadata": {},
   "outputs": [
    {
     "name": "stdout",
     "output_type": "stream",
     "text": [
      "Epoch 1/100\n",
      "163/163 [==============================] - 15s 93ms/step - loss: 0.0086\n",
      "Epoch 2/100\n",
      "163/163 [==============================] - 17s 102ms/step - loss: 0.0040\n",
      "Epoch 3/100\n",
      "163/163 [==============================] - 18s 110ms/step - loss: 0.0033\n",
      "Epoch 4/100\n",
      "163/163 [==============================] - 18s 109ms/step - loss: 0.0032\n",
      "Epoch 5/100\n",
      "163/163 [==============================] - 19s 114ms/step - loss: 0.0026\n",
      "Epoch 6/100\n",
      "163/163 [==============================] - 18s 110ms/step - loss: 0.0027\n",
      "Epoch 7/100\n",
      "163/163 [==============================] - 18s 111ms/step - loss: 0.0026\n",
      "Epoch 8/100\n",
      "163/163 [==============================] - 18s 111ms/step - loss: 0.0022\n",
      "Epoch 9/100\n",
      "163/163 [==============================] - 18s 108ms/step - loss: 0.0020\n",
      "Epoch 10/100\n",
      "163/163 [==============================] - 18s 110ms/step - loss: 0.0021\n",
      "Epoch 11/100\n",
      "163/163 [==============================] - 18s 111ms/step - loss: 0.0018\n",
      "Epoch 12/100\n",
      "163/163 [==============================] - 18s 110ms/step - loss: 0.0018\n",
      "Epoch 13/100\n",
      "163/163 [==============================] - 18s 109ms/step - loss: 0.0017\n",
      "Epoch 14/100\n",
      "163/163 [==============================] - 18s 111ms/step - loss: 0.0016\n",
      "Epoch 15/100\n",
      "163/163 [==============================] - 18s 110ms/step - loss: 0.0016\n",
      "Epoch 16/100\n",
      "163/163 [==============================] - 18s 108ms/step - loss: 0.0016\n",
      "Epoch 17/100\n",
      "163/163 [==============================] - 18s 110ms/step - loss: 0.0016\n",
      "Epoch 18/100\n",
      "163/163 [==============================] - 18s 111ms/step - loss: 0.0016\n",
      "Epoch 19/100\n",
      "163/163 [==============================] - 18s 111ms/step - loss: 0.0013\n",
      "Epoch 20/100\n",
      "163/163 [==============================] - 18s 109ms/step - loss: 0.0014\n",
      "Epoch 21/100\n",
      "163/163 [==============================] - 17s 107ms/step - loss: 0.0014\n",
      "Epoch 22/100\n",
      "163/163 [==============================] - 18s 113ms/step - loss: 0.0014\n",
      "Epoch 23/100\n",
      "163/163 [==============================] - 17s 105ms/step - loss: 0.0013\n",
      "Epoch 24/100\n",
      "163/163 [==============================] - 17s 107ms/step - loss: 0.0014\n",
      "Epoch 25/100\n",
      "163/163 [==============================] - 17s 103ms/step - loss: 0.0011\n",
      "Epoch 26/100\n",
      "163/163 [==============================] - 17s 105ms/step - loss: 0.0013\n",
      "Epoch 27/100\n",
      "163/163 [==============================] - 17s 103ms/step - loss: 0.0012\n",
      "Epoch 28/100\n",
      "163/163 [==============================] - 17s 106ms/step - loss: 0.00110s - loss: 0.00\n",
      "Epoch 29/100\n",
      "163/163 [==============================] - 17s 106ms/step - loss: 0.0011\n",
      "Epoch 30/100\n",
      "163/163 [==============================] - 17s 105ms/step - loss: 0.0012\n",
      "Epoch 31/100\n",
      "163/163 [==============================] - 17s 104ms/step - loss: 0.0011\n",
      "Epoch 32/100\n",
      "163/163 [==============================] - 17s 106ms/step - loss: 0.00110s - loss\n",
      "Epoch 33/100\n",
      "163/163 [==============================] - 17s 104ms/step - loss: 0.0012\n",
      "Epoch 34/100\n",
      "163/163 [==============================] - 17s 105ms/step - loss: 0.0011\n",
      "Epoch 35/100\n",
      "163/163 [==============================] - 17s 104ms/step - loss: 0.0010\n",
      "Epoch 36/100\n",
      "163/163 [==============================] - 17s 105ms/step - loss: 0.0011\n",
      "Epoch 37/100\n",
      "163/163 [==============================] - 17s 105ms/step - loss: 0.0011\n",
      "Epoch 38/100\n",
      "163/163 [==============================] - 17s 105ms/step - loss: 9.7014e-04\n",
      "Epoch 39/100\n",
      "163/163 [==============================] - 17s 105ms/step - loss: 0.0011\n",
      "Epoch 40/100\n",
      "163/163 [==============================] - 17s 106ms/step - loss: 0.0010\n",
      "Epoch 41/100\n",
      "163/163 [==============================] - 17s 106ms/step - loss: 9.7515e-04\n",
      "Epoch 42/100\n",
      "163/163 [==============================] - 17s 103ms/step - loss: 0.0011\n",
      "Epoch 43/100\n",
      "163/163 [==============================] - 17s 106ms/step - loss: 0.0011\n",
      "Epoch 44/100\n",
      "163/163 [==============================] - 17s 104ms/step - loss: 9.5597e-04\n",
      "Epoch 45/100\n",
      "163/163 [==============================] - 17s 106ms/step - loss: 0.0010\n",
      "Epoch 46/100\n",
      "163/163 [==============================] - 17s 103ms/step - loss: 9.9941e-04\n",
      "Epoch 47/100\n",
      "163/163 [==============================] - 17s 106ms/step - loss: 0.0010\n",
      "Epoch 48/100\n",
      "163/163 [==============================] - 17s 103ms/step - loss: 0.0010\n",
      "Epoch 49/100\n",
      "163/163 [==============================] - 17s 107ms/step - loss: 9.8834e-04\n",
      "Epoch 50/100\n",
      "163/163 [==============================] - 18s 109ms/step - loss: 0.0010\n",
      "Epoch 51/100\n",
      "163/163 [==============================] - 17s 106ms/step - loss: 0.0011\n",
      "Epoch 52/100\n",
      "163/163 [==============================] - 17s 104ms/step - loss: 0.0010\n",
      "Epoch 53/100\n",
      "163/163 [==============================] - 17s 106ms/step - loss: 9.6671e-04\n",
      "Epoch 54/100\n",
      "163/163 [==============================] - 17s 103ms/step - loss: 0.0011\n",
      "Epoch 55/100\n",
      "163/163 [==============================] - 18s 108ms/step - loss: 0.0010\n",
      "Epoch 56/100\n",
      "163/163 [==============================] - 17s 106ms/step - loss: 9.9853e-04\n",
      "Epoch 57/100\n",
      "163/163 [==============================] - 17s 106ms/step - loss: 0.0010\n",
      "Epoch 58/100\n",
      "163/163 [==============================] - 17s 107ms/step - loss: 9.0172e-04\n",
      "Epoch 59/100\n",
      "163/163 [==============================] - 17s 107ms/step - loss: 9.2667e-04\n",
      "Epoch 60/100\n",
      "163/163 [==============================] - 17s 103ms/step - loss: 9.9440e-04\n",
      "Epoch 61/100\n",
      "163/163 [==============================] - 17s 106ms/step - loss: 0.0011\n",
      "Epoch 62/100\n",
      "163/163 [==============================] - 17s 104ms/step - loss: 9.6997e-04\n",
      "Epoch 63/100\n",
      "163/163 [==============================] - 17s 106ms/step - loss: 0.0010\n",
      "Epoch 64/100\n",
      "163/163 [==============================] - 17s 105ms/step - loss: 9.5517e-04\n",
      "Epoch 65/100\n",
      "163/163 [==============================] - 17s 107ms/step - loss: 9.2889e-04\n",
      "Epoch 66/100\n",
      "163/163 [==============================] - 17s 105ms/step - loss: 9.1824e-04\n",
      "Epoch 67/100\n",
      "163/163 [==============================] - 17s 104ms/step - loss: 9.6522e-04\n",
      "Epoch 68/100\n",
      "163/163 [==============================] - 18s 109ms/step - loss: 9.4651e-04\n",
      "Epoch 69/100\n",
      "163/163 [==============================] - 17s 106ms/step - loss: 9.7572e-04\n",
      "Epoch 70/100\n",
      "163/163 [==============================] - 17s 104ms/step - loss: 9.2823e-04\n",
      "Epoch 71/100\n",
      "163/163 [==============================] - 17s 106ms/step - loss: 9.3931e-04\n",
      "Epoch 72/100\n",
      "163/163 [==============================] - 17s 105ms/step - loss: 9.5674e-04\n",
      "Epoch 73/100\n",
      "163/163 [==============================] - 17s 105ms/step - loss: 9.3645e-04\n",
      "Epoch 74/100\n",
      "163/163 [==============================] - 18s 111ms/step - loss: 8.7871e-04\n",
      "Epoch 75/100\n",
      "163/163 [==============================] - 18s 108ms/step - loss: 8.6582e-04\n",
      "Epoch 76/100\n",
      "163/163 [==============================] - 17s 105ms/step - loss: 0.0010\n",
      "Epoch 77/100\n",
      "163/163 [==============================] - 17s 107ms/step - loss: 9.6226e-04\n",
      "Epoch 78/100\n",
      "163/163 [==============================] - 17s 107ms/step - loss: 9.6164e-04\n",
      "Epoch 79/100\n",
      "163/163 [==============================] - 17s 105ms/step - loss: 8.7161e-04\n",
      "Epoch 80/100\n",
      "163/163 [==============================] - 17s 106ms/step - loss: 9.6222e-04\n",
      "Epoch 81/100\n",
      "163/163 [==============================] - 17s 105ms/step - loss: 9.5633e-04\n",
      "Epoch 82/100\n",
      "163/163 [==============================] - 17s 106ms/step - loss: 8.4241e-04\n",
      "Epoch 83/100\n",
      "163/163 [==============================] - 18s 108ms/step - loss: 9.3613e-04\n",
      "Epoch 84/100\n",
      "163/163 [==============================] - 17s 104ms/step - loss: 9.3147e-04\n",
      "Epoch 85/100\n",
      "163/163 [==============================] - 17s 107ms/step - loss: 8.5504e-04\n",
      "Epoch 86/100\n",
      "163/163 [==============================] - 18s 108ms/step - loss: 8.8432e-04\n",
      "Epoch 87/100\n",
      "163/163 [==============================] - 17s 105ms/step - loss: 8.8312e-04\n",
      "Epoch 88/100\n",
      "163/163 [==============================] - 17s 105ms/step - loss: 9.2190e-04\n",
      "Epoch 89/100\n",
      "163/163 [==============================] - 17s 106ms/step - loss: 8.7167e-04\n",
      "Epoch 90/100\n",
      "163/163 [==============================] - 17s 105ms/step - loss: 8.8618e-04\n",
      "Epoch 91/100\n",
      "163/163 [==============================] - 17s 107ms/step - loss: 9.1186e-04\n",
      "Epoch 92/100\n",
      "163/163 [==============================] - 17s 105ms/step - loss: 9.9018e-04\n",
      "Epoch 93/100\n",
      "163/163 [==============================] - 17s 107ms/step - loss: 8.6779e-04\n",
      "Epoch 94/100\n"
     ]
    },
    {
     "name": "stdout",
     "output_type": "stream",
     "text": [
      "163/163 [==============================] - 17s 102ms/step - loss: 9.2518e-04\n",
      "Epoch 95/100\n",
      "163/163 [==============================] - 19s 115ms/step - loss: 8.6957e-04\n",
      "Epoch 96/100\n",
      "163/163 [==============================] - 17s 105ms/step - loss: 8.8923e-04\n",
      "Epoch 97/100\n",
      "163/163 [==============================] - ETA: 0s - loss: 8.6964e-0 - 17s 106ms/step - loss: 8.6964e-04\n",
      "Epoch 98/100\n",
      "163/163 [==============================] - 17s 107ms/step - loss: 9.6772e-04\n",
      "Epoch 99/100\n",
      "163/163 [==============================] - 17s 107ms/step - loss: 8.2581e-04\n",
      "Epoch 100/100\n",
      "163/163 [==============================] - 17s 107ms/step - loss: 8.4860e-04\n"
     ]
    },
    {
     "data": {
      "text/plain": [
       "<tensorflow.python.keras.callbacks.History at 0x1bfeaa068b0>"
      ]
     },
     "execution_count": 15,
     "metadata": {},
     "output_type": "execute_result"
    }
   ],
   "source": [
    "# Fitting the RNN to the Training set\n",
    "regressor.fit(X_train, y_train, epochs = 100, batch_size = 32)"
   ]
  },
  {
   "cell_type": "markdown",
   "metadata": {},
   "source": [
    "#### Making the predictions and visualising the results"
   ]
  },
  {
   "cell_type": "code",
   "execution_count": 19,
   "metadata": {},
   "outputs": [],
   "source": [
    "# Getting the real stock price of March-April 2021\n",
    "dataset_test = pd.read_csv('HDFCBANK_test.csv')\n",
    "real_stock_price = dataset_test.iloc[:, 1:2].values\n"
   ]
  },
  {
   "cell_type": "code",
   "execution_count": 20,
   "metadata": {},
   "outputs": [],
   "source": [
    "# Getting the predicted stock price of March-April 2021\n",
    "dataset_total = pd.concat((dataset_train['Open'], dataset_test['Open']), axis = 0)\n",
    "inputs = dataset_total[len(dataset_total) - len(dataset_test) - 60:].values\n",
    "inputs = inputs.reshape(-1,1)\n",
    "inputs = sc.transform(inputs)\n",
    "X_test = []\n",
    "for i in range(60, 100):\n",
    "    X_test.append(inputs[i-60:i, 0])\n",
    "X_test = np.array(X_test)\n",
    "X_test = np.reshape(X_test, (X_test.shape[0], X_test.shape[1], 1))\n",
    "predicted_stock_price = regressor.predict(X_test)\n",
    "predicted_stock_price = sc.inverse_transform(predicted_stock_price)\n"
   ]
  },
  {
   "cell_type": "code",
   "execution_count": 21,
   "metadata": {},
   "outputs": [
    {
     "data": {
      "image/png": "[encoded data removed]",
      "text/plain": [
       "<Figure size 432x288 with 1 Axes>"
      ]
     },
     "metadata": {
      "needs_background": "light"
     },
     "output_type": "display_data"
    }
   ],
   "source": [
    "# Visualising the results\n",
    "plt.plot(real_stock_price, color = 'red', label = 'Real HDFCBANK Stock Price')\n",
    "plt.plot(predicted_stock_price, color = 'blue', label = 'Predicted HDFCBANK Stock Price')\n",
    "plt.title('HDFCBANK Stock Price Prediction')\n",
    "plt.xlabel('Time')\n",
    "plt.ylabel('HDFCBANK Stock Price')\n",
    "plt.legend()\n",
    "plt.show()\n"
   ]
  },
   {
   "cell_type": "code",
   "execution_count": null,
   "metadata": {},
   "outputs": [],
   "source": []
  }
 ],
 "metadata": {
  "kernelspec": {
   "display_name": "Python 3",
   "language": "python",
   "name": "python3"
  },
  "language_info": {
   "codemirror_mode": {
    "name": "ipython",
    "version": 3
   },
   "file_extension": ".py",
   "mimetype": "text/x-python",
   "name": "python",
   "nbconvert_exporter": "python",
   "pygments_lexer": "ipython3",
   "version": "3.8.5"
  }
 },
 "nbformat": 4,
 "nbformat_minor": 4
}
